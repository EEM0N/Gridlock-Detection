{
  "nbformat": 4,
  "nbformat_minor": 0,
  "metadata": {
    "colab": {
      "name": "GridlockPredictionUsingLSTM(21_03_2020).ipynb",
      "provenance": [],
      "collapsed_sections": []
    },
    "kernelspec": {
      "display_name": "Python 3",
      "language": "python",
      "name": "python3"
    },
    "language_info": {
      "codemirror_mode": {
        "name": "ipython",
        "version": 3
      },
      "file_extension": ".py",
      "mimetype": "text/x-python",
      "name": "python",
      "nbconvert_exporter": "python",
      "pygments_lexer": "ipython3",
      "version": "3.7.3"
    }
  },
  "cells": [
    {
      "cell_type": "code",
      "metadata": {
        "id": "T_3TIcYqtRIW",
        "colab_type": "code",
        "colab": {},
        "outputId": "7e442a54-beb3-447f-a77b-dce82f04f885"
      },
      "source": [
        "import tensorflow as tf\n",
        "from keras.backend.tensorflow_backend import set_session\n",
        "# config = tf.ConfigProto()\n",
        "# config.gpu_options.allocator_type = 'BFC' #A \"Best-fit with coalescing\" algorithm, simplified from a version of dlmalloc.\n",
        "# config.gpu_options.per_process_gpu_memory_fraction = 0.3\n",
        "# config.gpu_options.allow_growth = True\n",
        "# set_session(tf.Session(config=config)) \n",
        "\n",
        "## LIMIT GPU USAGE\n",
        "config = tf.ConfigProto(log_device_placement=True)  \n",
        "config.gpu_options.allow_growth = True  # don't pre-allocate memory; allocate as-needed\n",
        "config.gpu_options.per_process_gpu_memory_fraction = 0.95  # limit memory to be allocated\n",
        "set_session(tf.Session(config=config)) # create sess w/ above settings\n",
        "print(tf.test.is_built_with_cuda())"
      ],
      "execution_count": null,
      "outputs": [
        {
          "output_type": "stream",
          "text": [
            "Using TensorFlow backend.\n"
          ],
          "name": "stderr"
        },
        {
          "output_type": "stream",
          "text": [
            "True\n"
          ],
          "name": "stdout"
        }
      ]
    },
    {
      "cell_type": "code",
      "metadata": {
        "id": "AfiffGo7tRIa",
        "colab_type": "code",
        "colab": {},
        "outputId": "fa316aba-1d35-4306-c001-b36ec7dea4b5"
      },
      "source": [
        "import tensorflow as tf\n",
        "if tf.test.gpu_device_name():\n",
        "    print('Default GPU Device: {}'.format(tf.test.gpu_device_name()))\n",
        "else:\n",
        "    print(\"Please install GPU version of TF\")"
      ],
      "execution_count": null,
      "outputs": [
        {
          "output_type": "stream",
          "text": [
            "Default GPU Device: /device:GPU:0\n"
          ],
          "name": "stdout"
        }
      ]
    },
    {
      "cell_type": "code",
      "metadata": {
        "id": "G2QByFg_tRId",
        "colab_type": "code",
        "colab": {},
        "outputId": "ca680cda-9dc7-401f-9a03-fc19b951fbb1"
      },
      "source": [
        "# keras example imports\n",
        "from keras.models import load_model\n",
        " \n",
        "## extra imports to set GPU options\n",
        "import tensorflow as tf\n",
        "from keras import backend as k\n",
        "\n",
        "k.get_session().close()\n",
        "###################################\n",
        "# TensorFlow wizardry\n",
        "config = tf.ConfigProto()\n",
        " \n",
        "# Don't pre-allocate memory; allocate as-needed\n",
        "config.gpu_options.allow_growth = True\n",
        " \n",
        "# Only allow a total of half the GPU memory to be allocated\n",
        "config.gpu_options.per_process_gpu_memory_fraction = 0.95\n",
        " \n",
        "# Create a session with the above options specified.\n",
        "k.tensorflow_backend.set_session(tf.Session(config=config))\n",
        "###################################\n",
        "print(tf.test.is_built_with_cuda())"
      ],
      "execution_count": null,
      "outputs": [
        {
          "output_type": "stream",
          "text": [
            "True\n"
          ],
          "name": "stdout"
        }
      ]
    },
    {
      "cell_type": "markdown",
      "metadata": {
        "id": "nYAlgViTtRIg",
        "colab_type": "text"
      },
      "source": [
        "https://machinelearningmastery.com/multivariate-time-series-forecasting-lstms-keras/\n",
        "https://machinelearningmastery.com/time-series-forecasting-long-short-term-memory-network-python/\n",
        "https://machinelearningmastery.com/multi-step-time-series-forecasting-long-short-term-memory-networks-python/\n",
        "https://machinelearningmastery.com/models-sequence-prediction-recurrent-neural-networks/\n",
        "https://machinelearningmastery.com/how-to-develop-rnn-models-for-human-activity-recognition-time-series-classification/"
      ]
    },
    {
      "cell_type": "code",
      "metadata": {
        "id": "adSJaASFtRIg",
        "colab_type": "code",
        "colab": {},
        "outputId": "c9804e09-9003-43cc-8828-d0bd5c16f8af"
      },
      "source": [
        "from math import sqrt\n",
        "from numpy import concatenate\n",
        "from matplotlib import pyplot\n",
        "from pandas import read_csv\n",
        "from pandas import DataFrame\n",
        "from pandas import concat\n",
        "from sklearn.metrics import mean_squared_error\n",
        "from keras.models import Sequential\n",
        "from keras.layers import Dense\n",
        "from keras.layers import LSTM\n",
        "import os\n",
        "import numpy as np\n",
        "from tabulate import tabulate\n",
        " \n",
        "# convert series to supervised learning\n",
        "def series_to_supervised(data, n_in=1, n_out=1, dropnan=True):\n",
        "    n_vars = 1 if type(data) is list else data.shape[1]\n",
        "    df = DataFrame(data)\n",
        "    cols, names = list(), list()\n",
        "    # input sequence (t-n, ... t-1)\n",
        "    for i in range(n_in, 0, -1):\n",
        "        cols.append(df.shift(i))\n",
        "        names += [('var%d(t-%d)' % (j+1, i)) for j in range(n_vars)]\n",
        "    # forecast sequence (t, t+1, ... t+n)\n",
        "    for i in range(0, n_out):\n",
        "        cols.append(df.shift(-i))\n",
        "        if i == 0:\n",
        "            names += [('var%d(t)' % (j+1)) for j in range(n_vars)]\n",
        "        else:\n",
        "            names += [('var%d(t+%d)' % (j+1, i)) for j in range(n_vars)]\n",
        "    # put it all together\n",
        "    agg = concat(cols, axis=1)\n",
        "    agg.columns = names\n",
        "    # drop rows with NaN values\n",
        "    if dropnan:\n",
        "        agg.dropna(inplace=True)\n",
        "    return agg\n",
        " \n",
        "# load dataset\n",
        "dirpath = os.getcwd()\n",
        "dataset = read_csv(dirpath + '/datasetForLSTM/60_5%_Allcombine.csv', header=0, index_col=0)\n",
        "values = dataset.values\n",
        "\n",
        "# specify the number of lag hours\n",
        "n_mins = 3\n",
        "n_features = 6\n",
        "# frame as supervised learning\n",
        "reframed = series_to_supervised(values, n_mins, 1)\n",
        "print(reframed.head())"
      ],
      "execution_count": null,
      "outputs": [
        {
          "output_type": "stream",
          "text": [
            "   var1(t-3)  var2(t-3)  var3(t-3)  var4(t-3)  var5(t-3)  var6(t-3)  \\\n",
            "3        0.0        0.0        0.0        0.0        0.0        0.0   \n",
            "4        0.0        0.0        0.0        0.0        0.0        0.0   \n",
            "5        0.0        0.0        0.0        0.0        0.0        0.0   \n",
            "6        0.0        0.0        0.0        0.0        0.0        0.0   \n",
            "7        0.0        0.0        0.0        0.0        0.0        0.0   \n",
            "\n",
            "   var1(t-2)  var2(t-2)  var3(t-2)  var4(t-2)  ...  var3(t-1)  var4(t-1)  \\\n",
            "3        0.0        0.0        0.0        0.0  ...        0.0        0.0   \n",
            "4        0.0        0.0        0.0        0.0  ...        0.0        0.0   \n",
            "5        0.0        0.0        0.0        0.0  ...        0.0        0.0   \n",
            "6        0.0        0.0        0.0        0.0  ...        0.0        0.0   \n",
            "7        0.0        0.0        0.0        0.0  ...        0.0        0.0   \n",
            "\n",
            "   var5(t-1)  var6(t-1)  var1(t)  var2(t)  var3(t)  var4(t)  var5(t)  var6(t)  \n",
            "3        0.0        0.0        0        0        0        0        0        0  \n",
            "4        0.0        0.0        0        0        0        0        0        0  \n",
            "5        0.0        0.0        0        0        0        0        0        0  \n",
            "6        0.0        0.0        0        0        0        0        0        0  \n",
            "7        0.0        0.0        0        0        0        0        0        0  \n",
            "\n",
            "[5 rows x 24 columns]\n"
          ],
          "name": "stdout"
        }
      ]
    },
    {
      "cell_type": "code",
      "metadata": {
        "id": "wIibSAKRtRIj",
        "colab_type": "code",
        "colab": {},
        "outputId": "3cb024c6-9008-4cc7-cf4c-923af3cc4b95"
      },
      "source": [
        "# drop columns we don't want to predict\n",
        "reframed.drop(reframed.columns[[18,19,20,21,22]], axis=1, inplace=True)\n",
        "print(reframed.head())"
      ],
      "execution_count": null,
      "outputs": [
        {
          "output_type": "stream",
          "text": [
            "   var1(t-3)  var2(t-3)  var3(t-3)  var4(t-3)  var5(t-3)  var6(t-3)  \\\n",
            "3        0.0        0.0        0.0        0.0        0.0        0.0   \n",
            "4        0.0        0.0        0.0        0.0        0.0        0.0   \n",
            "5        0.0        0.0        0.0        0.0        0.0        0.0   \n",
            "6        0.0        0.0        0.0        0.0        0.0        0.0   \n",
            "7        0.0        0.0        0.0        0.0        0.0        0.0   \n",
            "\n",
            "   var1(t-2)  var2(t-2)  var3(t-2)  var4(t-2)  var5(t-2)  var6(t-2)  \\\n",
            "3        0.0        0.0        0.0        0.0        0.0        0.0   \n",
            "4        0.0        0.0        0.0        0.0        0.0        0.0   \n",
            "5        0.0        0.0        0.0        0.0        0.0        0.0   \n",
            "6        0.0        0.0        0.0        0.0        0.0        0.0   \n",
            "7        0.0        0.0        0.0        0.0        0.0        0.0   \n",
            "\n",
            "   var1(t-1)  var2(t-1)  var3(t-1)  var4(t-1)  var5(t-1)  var6(t-1)  var6(t)  \n",
            "3        0.0        0.0        0.0        0.0        0.0        0.0        0  \n",
            "4        0.0        0.0        0.0        0.0        0.0        0.0        0  \n",
            "5        0.0        0.0        0.0        0.0        0.0        0.0        0  \n",
            "6        0.0        0.0        0.0        0.0        0.0        0.0        0  \n",
            "7        0.0        0.0        0.0        0.0        0.0        0.0        0  \n"
          ],
          "name": "stdout"
        }
      ]
    },
    {
      "cell_type": "code",
      "metadata": {
        "id": "4OWVWUk-tRIm",
        "colab_type": "code",
        "colab": {}
      },
      "source": [
        "# split into train and test sets\n",
        "values = reframed.values\n",
        "n_train_hours =80 * 181\n",
        "train = values[:n_train_hours, :]\n",
        "test = values[n_train_hours:, :]\n",
        "\n",
        "# temp = train.tolist()\n",
        "# temp = DataFrame(temp)\n",
        "# temp.to_csv(dirpath + '/train.csv',index=False)\n",
        "\n",
        "# temp = test.tolist()\n",
        "# temp = DataFrame(temp)\n",
        "# temp.to_csv(dirpath + '/test.csv',index=False)"
      ],
      "execution_count": null,
      "outputs": []
    },
    {
      "cell_type": "code",
      "metadata": {
        "id": "VBhmrgbEtRIo",
        "colab_type": "code",
        "colab": {}
      },
      "source": [
        "# split into input and outputs\n",
        "n_obs = n_mins * n_features\n",
        "train_X, train_y = train[:, :n_obs], train[:, -1]\n",
        "test_X, test_y = test[:, :n_obs], test[:, -1]"
      ],
      "execution_count": null,
      "outputs": []
    },
    {
      "cell_type": "code",
      "metadata": {
        "id": "Icqw42KHtRIr",
        "colab_type": "code",
        "colab": {}
      },
      "source": [
        "# print(tabulate(test_X, headers=['test_X'], tablefmt='orgtbl'))"
      ],
      "execution_count": null,
      "outputs": []
    },
    {
      "cell_type": "code",
      "metadata": {
        "id": "zL86yP0VtRIu",
        "colab_type": "code",
        "colab": {}
      },
      "source": [
        "# temp = test_y.tolist()\n",
        "# temp = DataFrame(temp)\n",
        "# temp"
      ],
      "execution_count": null,
      "outputs": []
    },
    {
      "cell_type": "code",
      "metadata": {
        "id": "xILcCiaCtRIw",
        "colab_type": "code",
        "colab": {},
        "outputId": "6f6b40d7-04b1-4b4b-c195-fa988714309d"
      },
      "source": [
        "print(train_X.shape, len(train_X), train_y.shape)\n",
        "# reshape input to be 3D [samples, timesteps, features]\n",
        "train_X = train_X.reshape((train_X.shape[0], n_mins, n_features))\n",
        "test_X = test_X.reshape((test_X.shape[0], n_mins, n_features))\n",
        "print(train_X.shape, train_y.shape, test_X.shape, test_y.shape)\n",
        " \n",
        "# design network\n",
        "model = Sequential()\n",
        "model.add(LSTM(50, input_shape=(train_X.shape[1], train_X.shape[2])))\n",
        "model.add(Dense(1))\n",
        "model.compile(loss='mean_squared_error', optimizer='adam')\n",
        "# fit network\n",
        "history = model.fit(train_X, train_y, epochs=100, batch_size=20, validation_data=(test_X, test_y), verbose=0, shuffle=False)\n",
        "# plot history\n",
        "pyplot.plot(history.history['loss'], label='train')\n",
        "pyplot.plot(history.history['val_loss'], label='test')\n",
        "pyplot.legend()\n",
        "pyplot.show()"
      ],
      "execution_count": null,
      "outputs": [
        {
          "output_type": "stream",
          "text": [
            "(14480, 18) 14480 (14480,)\n",
            "(14480, 3, 6) (14480,) (3617, 3, 6) (3617,)\n",
            "WARNING:tensorflow:From C:\\ProgramData\\Anaconda3\\lib\\site-packages\\tensorflow\\python\\framework\\op_def_library.py:263: colocate_with (from tensorflow.python.framework.ops) is deprecated and will be removed in a future version.\n",
            "Instructions for updating:\n",
            "Colocations handled automatically by placer.\n",
            "WARNING:tensorflow:From C:\\ProgramData\\Anaconda3\\lib\\site-packages\\tensorflow\\python\\ops\\math_ops.py:3066: to_int32 (from tensorflow.python.ops.math_ops) is deprecated and will be removed in a future version.\n",
            "Instructions for updating:\n",
            "Use tf.cast instead.\n"
          ],
          "name": "stdout"
        },
        {
          "output_type": "display_data",
          "data": {
            "image/png": "[encoded data removed]",
            "text/plain": [
              "<Figure size 432x288 with 1 Axes>"
            ]
          },
          "metadata": {
            "tags": [],
            "needs_background": "light"
          }
        }
      ]
    },
    {
      "cell_type": "code",
      "metadata": {
        "id": "lX9r9LjLtRIz",
        "colab_type": "code",
        "colab": {}
      },
      "source": [
        "# make a prediction\n",
        "yhat = model.predict(test_X)"
      ],
      "execution_count": null,
      "outputs": []
    },
    {
      "cell_type": "code",
      "metadata": {
        "id": "fJg1UFGitRI1",
        "colab_type": "code",
        "colab": {}
      },
      "source": [
        "yhat = [np.round(num) for num in yhat]\n",
        "# print(tabulate(yhat, headers=['yhat'], tablefmt='orgtbl'))"
      ],
      "execution_count": null,
      "outputs": []
    },
    {
      "cell_type": "code",
      "metadata": {
        "id": "hh8ar3zUtRI4",
        "colab_type": "code",
        "colab": {},
        "outputId": "c310a521-5ae2-4a79-e9cc-3b07a9c4a9f7"
      },
      "source": [
        "pyplot.plot(test,  'r*',label='actual')\n",
        "pyplot.show()"
      ],
      "execution_count": null,
      "outputs": [
        {
          "output_type": "display_data",
          "data": {
            "image/png": "[encoded data removed]",
            "text/plain": [
              "<Figure size 432x288 with 1 Axes>"
            ]
          },
          "metadata": {
            "tags": [],
            "needs_background": "light"
          }
        }
      ]
    },
    {
      "cell_type": "code",
      "metadata": {
        "id": "3-8AWcL2tRI6",
        "colab_type": "code",
        "colab": {},
        "outputId": "cca76699-e855-4596-8b5e-e039bc058d74"
      },
      "source": [
        "pyplot.plot(yhat, 'b+',label='predict')\n",
        "pyplot.show()"
      ],
      "execution_count": null,
      "outputs": [
        {
          "output_type": "display_data",
          "data": {
            "image/png": "[encoded data removed]",
            "text/plain": [
              "<Figure size 432x288 with 1 Axes>"
            ]
          },
          "metadata": {
            "tags": [],
            "needs_background": "light"
          }
        }
      ]
    }
  ]
}